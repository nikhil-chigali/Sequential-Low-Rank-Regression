{
 "cells": [
  {
   "cell_type": "markdown",
   "metadata": {},
   "source": [
    "## Import Dependencies"
   ]
  },
  {
   "cell_type": "code",
   "execution_count": 2,
   "metadata": {},
   "outputs": [],
   "source": [
    "import numpy as np\n",
    "import numpy.linalg as la"
   ]
  },
  {
   "cell_type": "markdown",
   "metadata": {},
   "source": [
    "## Generate Data"
   ]
  },
  {
   "cell_type": "code",
   "execution_count": null,
   "metadata": {},
   "outputs": [],
   "source": [
    "d = 100 # Number of features\n",
    "m = 50 # Output dimension\n",
    "n = 1000  # Number of samples\n",
    "r = 10  # Rank of the matrix W\n",
    "\n",
    "# Generating n input data points with d features with a normal distribution\n",
    "X = np.random.randn(n, d)\n",
    "\n",
    "# Normalizing the rows of X\n",
    "X = X / la.norm(X, axis=1, keepdims=True)\n",
    "\n",
    "# Generating a random matrix W with rank r\n",
    "e = 1\n",
    "S_star = [1]\n",
    "\n",
    "# Generating the eigenvalues of W\n",
    "eigen_gaps = [10 for i in range(r-1)]\n",
    "\n",
    "for i in range(r-1):\n",
    "    e = e + eigen_gaps[i]\n",
    "    S_star.insert(0,e)\n",
    "\n",
    "\n",
    "M = np.random.randn(d, m)\n",
    "[U, _, V] = la.svd(M, full_matrices=False)\n",
    "W = np.dot(U[:, :r], V[:r, :]) * np.diag(S_star)\n",
    "\n",
    "n_agents = 3"
   ]
  },
  {
   "cell_type": "code",
   "execution_count": 10,
   "metadata": {},
   "outputs": [
    {
     "data": {
      "text/plain": [
       "[np.float64(5.333333333333336),\n",
       " np.float64(5.333333333333329),\n",
       " np.float64(5.333333333333336),\n",
       " np.float64(5.333333333333332),\n",
       " np.float64(5.333333333333332),\n",
       " np.float64(5.333333333333336),\n",
       " np.float64(5.333333333333329),\n",
       " np.float64(5.333333333333336),\n",
       " np.float64(5.333333333333336)]"
      ]
     },
     "execution_count": 10,
     "metadata": {},
     "output_type": "execute_result"
    }
   ],
   "source": [
    "[s[i-1] - s[i] for i in range(1, r)]"
   ]
  }
 ],
 "metadata": {
  "kernelspec": {
   "display_name": ".venv",
   "language": "python",
   "name": "python3"
  },
  "language_info": {
   "codemirror_mode": {
    "name": "ipython",
    "version": 3
   },
   "file_extension": ".py",
   "mimetype": "text/x-python",
   "name": "python",
   "nbconvert_exporter": "python",
   "pygments_lexer": "ipython3",
   "version": "3.11.4"
  }
 },
 "nbformat": 4,
 "nbformat_minor": 2
}
